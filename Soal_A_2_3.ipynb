{
  "nbformat": 4,
  "nbformat_minor": 0,
  "metadata": {
    "colab": {
      "name": "Soal A.ipynb",
      "provenance": [],
      "collapsed_sections": []
    },
    "kernelspec": {
      "name": "python3",
      "display_name": "Python 3"
    }
  },
  "cells": [
    {
      "cell_type": "markdown",
      "metadata": {
        "id": "-DlKN4VDoBPn"
      },
      "source": [
        "# **Jawaban Nomor 2**"
      ]
    },
    {
      "cell_type": "code",
      "metadata": {
        "colab": {
          "base_uri": "https://localhost:8080/"
        },
        "id": "iwMOUHB0qOAQ",
        "outputId": "803745d7-4eb8-42e5-c640-c76625f7b604"
      },
      "source": [
        "# INPUT \r\n",
        "# jumlah kaos kaki\r\n",
        "n = int(input())\r\n",
        "\r\n",
        "# declare array untuk  warna kaos kaki\r\n",
        "ar = []\r\n",
        "\r\n",
        "# memasukan nilai ar\r\n",
        "ar = list(map(int,input().strip().split()))[:n] "
      ],
      "execution_count": 13,
      "outputs": [
        {
          "output_type": "stream",
          "text": [
            "9\n",
            "1 2 2 1 1 3 5 1 2\n"
          ],
          "name": "stdout"
        }
      ]
    },
    {
      "cell_type": "code",
      "metadata": {
        "id": "WPRvtetJw61B"
      },
      "source": [
        "# FUNGSI MENGHITUNG JUMLAH PASANG KAOS KAKI\r\n",
        "def hitungpair(ar, n):\r\n",
        " \r\n",
        "    # counter\r\n",
        "    count = 0\r\n",
        " \r\n",
        "    # mengurutkan array awal\r\n",
        "    ar.sort()\r\n",
        "    i = 0\r\n",
        "    while i < (n-1):\r\n",
        " \r\n",
        "        # Menemukan pasangan\r\n",
        "        if (ar[i] == ar[i + 1]):\r\n",
        "            count += 1\r\n",
        " \r\n",
        "            # Skip elemen pasangan saat ini\r\n",
        "            i = i + 2\r\n",
        " \r\n",
        "        # elemen saat ini yg tidak berpasangan\r\n",
        "        else:\r\n",
        "            i += 1\r\n",
        " \r\n",
        "    return count"
      ],
      "execution_count": 94,
      "outputs": []
    },
    {
      "cell_type": "code",
      "metadata": {
        "colab": {
          "base_uri": "https://localhost:8080/"
        },
        "id": "0B00O7OegcYc",
        "outputId": "e2f49157-6ffc-47e9-9217-8cd53777fe87"
      },
      "source": [
        "# OUTPUT\r\n",
        "if __name__ == \"__main__\":\r\n",
        "    print(hitungpair(ar, n))"
      ],
      "execution_count": 95,
      "outputs": [
        {
          "output_type": "stream",
          "text": [
            "3\n"
          ],
          "name": "stdout"
        }
      ]
    },
    {
      "cell_type": "markdown",
      "metadata": {
        "id": "TyzdkKfyn7L5"
      },
      "source": [
        "# **Jawaban Nomor 3**"
      ]
    },
    {
      "cell_type": "code",
      "metadata": {
        "id": "CyQzrZ_riTve"
      },
      "source": [
        "# Import packages \r\n",
        "import pandas as pd\r\n",
        "import datetime\r\n",
        "import dateutil\r\n",
        "  \r\n",
        "# Mendefinisikan data dictionary  \r\n",
        "data = {'ID': [1, 2, 3], \r\n",
        "        'FullName': ['Stan Smith', 'Nikola Griffin', 'Ruby Moore'], \r\n",
        "        'Gender': ['Male', 'Male', 'Female'],\r\n",
        "        'DateOfBirth':[date(1960,2,10), date(1999,12,20), date(2002,3,3)]} \r\n",
        "\r\n",
        "# Konversi dictionary ke DataFrame \r\n",
        "df = pd.DataFrame(data)"
      ],
      "execution_count": 131,
      "outputs": []
    },
    {
      "cell_type": "code",
      "metadata": {
        "id": "85jrnlHDjRW7"
      },
      "source": [
        "# FUNGSI MENENTUKAN USIA\r\n",
        "def birthday(row):\r\n",
        "    # Tanggal hari ini\r\n",
        "    now = datetime.datetime.utcnow()\r\n",
        "    now = now.date()\r\n",
        "\r\n",
        "    # Mencari perbedaan tahun dari tanggal saat ini dan tanggal lahir\r\n",
        "    age = dateutil.relativedelta.relativedelta(now, row['DateOfBirth'])\r\n",
        "    age = age.years\r\n",
        "\r\n",
        "    return age"
      ],
      "execution_count": 132,
      "outputs": []
    },
    {
      "cell_type": "code",
      "metadata": {
        "id": "gtW0PhG8j0w8"
      },
      "source": [
        "# Memasukkan kolom usia ke dataframe\r\n",
        "# kolom ini merupakan kolom sementara\r\n",
        "df['Age'] = df.apply (lambda row: birthday(row), axis=1)"
      ],
      "execution_count": 138,
      "outputs": []
    },
    {
      "cell_type": "code",
      "metadata": {
        "id": "VPMpKS91Z4mX"
      },
      "source": [
        "# FUNGSI MENENTUKAN GOLONGAN USIA\r\n",
        "def age_group (row):\r\n",
        "  if row['Age'] >= 60 :\r\n",
        "    return 'Senior Adult'\r\n",
        "  if row['Age'] > 18 and row['Age'] < 60  :\r\n",
        "    return 'Adult'\r\n",
        "  if row['Age'] <= 18 and row['Age'] > 12  :\r\n",
        "    return 'Teen'"
      ],
      "execution_count": 139,
      "outputs": []
    },
    {
      "cell_type": "code",
      "metadata": {
        "id": "2AHe0r2oewRE"
      },
      "source": [
        "# Menambah kolom AgeGroup \r\n",
        "df['AgeGroup'] = df.apply (lambda row: age_group(row), axis=1)"
      ],
      "execution_count": 140,
      "outputs": []
    },
    {
      "cell_type": "code",
      "metadata": {
        "colab": {
          "base_uri": "https://localhost:8080/",
          "height": 142
        },
        "id": "shldKFEdm1Nx",
        "outputId": "f2cf0750-38bd-4cfa-f3ce-5b56c0d9aa82"
      },
      "source": [
        "# menghapus kolom Age (yang bersifat sementara)\r\n",
        "del df['Age']\r\n",
        "\r\n",
        "# FINAL OUTPUT\r\n",
        "df"
      ],
      "execution_count": 141,
      "outputs": [
        {
          "output_type": "execute_result",
          "data": {
            "text/html": [
              "<div>\n",
              "<style scoped>\n",
              "    .dataframe tbody tr th:only-of-type {\n",
              "        vertical-align: middle;\n",
              "    }\n",
              "\n",
              "    .dataframe tbody tr th {\n",
              "        vertical-align: top;\n",
              "    }\n",
              "\n",
              "    .dataframe thead th {\n",
              "        text-align: right;\n",
              "    }\n",
              "</style>\n",
              "<table border=\"1\" class=\"dataframe\">\n",
              "  <thead>\n",
              "    <tr style=\"text-align: right;\">\n",
              "      <th></th>\n",
              "      <th>ID</th>\n",
              "      <th>FullName</th>\n",
              "      <th>Gender</th>\n",
              "      <th>DateOfBirth</th>\n",
              "      <th>AgeGroup</th>\n",
              "    </tr>\n",
              "  </thead>\n",
              "  <tbody>\n",
              "    <tr>\n",
              "      <th>0</th>\n",
              "      <td>1</td>\n",
              "      <td>Stan Smith</td>\n",
              "      <td>Male</td>\n",
              "      <td>1960-02-10</td>\n",
              "      <td>Senior Adult</td>\n",
              "    </tr>\n",
              "    <tr>\n",
              "      <th>1</th>\n",
              "      <td>2</td>\n",
              "      <td>Nikola Griffin</td>\n",
              "      <td>Male</td>\n",
              "      <td>1999-12-20</td>\n",
              "      <td>Adult</td>\n",
              "    </tr>\n",
              "    <tr>\n",
              "      <th>2</th>\n",
              "      <td>3</td>\n",
              "      <td>Ruby Moore</td>\n",
              "      <td>Female</td>\n",
              "      <td>2002-03-03</td>\n",
              "      <td>Teen</td>\n",
              "    </tr>\n",
              "  </tbody>\n",
              "</table>\n",
              "</div>"
            ],
            "text/plain": [
              "   ID        FullName  Gender DateOfBirth      AgeGroup\n",
              "0   1      Stan Smith    Male  1960-02-10  Senior Adult\n",
              "1   2  Nikola Griffin    Male  1999-12-20         Adult\n",
              "2   3      Ruby Moore  Female  2002-03-03          Teen"
            ]
          },
          "metadata": {
            "tags": []
          },
          "execution_count": 141
        }
      ]
    }
  ]
}